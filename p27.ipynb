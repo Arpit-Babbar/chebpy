{
 "metadata": {
  "name": "",
  "signature": "sha256:077a234e3969d881255a89111b34e0e0f9d41b9951ef0c95e8e15699f7227c9a"
 },
 "nbformat": 3,
 "nbformat_minor": 0,
 "worksheets": [
  {
   "cells": [
    {
     "cell_type": "heading",
     "level": 1,
     "metadata": {},
     "source": [
      "p27: Solve KdV equation"
     ]
    },
    {
     "cell_type": "markdown",
     "metadata": {},
     "source": [
      "Solve the KdV equation using FFT\n",
      "$$\n",
      "u_t + u u_x + u_{xxx} = 0, \\qquad x \\in [-\\pi,\\pi]\n",
      "$$"
     ]
    },
    {
     "cell_type": "code",
     "collapsed": false,
     "input": [
      "from mpl_toolkits.mplot3d import Axes3D\n",
      "from matplotlib.collections import LineCollection\n",
      "from numpy import pi,cosh,round,zeros,arange,real\n",
      "from numpy.fft import fft,ifft\n",
      "from matplotlib.pyplot import figure"
     ],
     "language": "python",
     "metadata": {},
     "outputs": [],
     "prompt_number": 36
    },
    {
     "cell_type": "code",
     "collapsed": false,
     "input": [
      "# Set up grid and differentiation matrix:\n",
      "N = 256; dt = 0.4/N**2; x = (2*pi/N)*arange(-N/2,N/2);\n",
      "A = 25.0; B = 16.0\n",
      "u = 3*A**2/cosh(0.5*A*(x+2))**2 + 3*B**2/cosh(0.5*B*(x+1))**2\n",
      "v = fft(u); \n",
      "k = 1j*zeros(N); k[0:N/2] = 1j*arange(0,N/2); k[N/2+1:] = 1j*arange(-N/2+1,0,1)\n",
      "ik3 = 1j*k**3\n",
      "#plot(x,u)\n",
      "\n",
      "# Time-stepping by leap-frog formula\n",
      "tmax = 0.006; nplt = int(round((tmax/25)/dt))\n",
      "nmax = int(round(tmax/dt))\n",
      "udata = []\n",
      "udata.append(list(zip(x, u)))\n",
      "tdata = [0]\n",
      "for n in range(1,nmax+1):\n",
      "    t = n*dt; g = -0.5j*dt*k\n",
      "    E = exp(dt*ik3/2); E2 = E**2\n",
      "    a = g * fft(real(ifft( v         ))**2)\n",
      "    b = g * fft(real(ifft( E*(v+a/2) ))**2)\n",
      "    c = g * fft(real(ifft( E*v+b/2   ))**2)\n",
      "    d = g * fft(real(ifft( E2*v+E*c  ))**2)\n",
      "    v = E2*v + (E2*a + 2*E*(b+c) + d)/6\n",
      "    if mod(n,nplt) == 0:\n",
      "        u = real(ifft(v))\n",
      "        udata.append(list(zip(x, u)))\n",
      "        tdata.append(t);\n",
      "\n",
      "fig = figure(figsize(8,8))\n",
      "ax = fig.gca(projection='3d')\n",
      "poly = LineCollection(udata)\n",
      "poly.set_alpha(0.5)\n",
      "ax.add_collection3d(poly, zs=tdata, zdir='y')\n",
      "ax.set_xlabel('X')\n",
      "ax.set_xlim3d(-pi, pi)\n",
      "ax.set_ylabel('Y')\n",
      "ax.set_ylim3d(0, 2000)\n",
      "ax.set_zlabel('Z')\n",
      "ax.set_zlim3d(0, tmax)\n",
      "ax.view_init(75,-85)"
     ],
     "language": "python",
     "metadata": {},
     "outputs": [
      {
       "metadata": {},
       "output_type": "display_data",
       "text": [
        "<matplotlib.figure.Figure at 0x10d67fad0>"
       ]
      }
     ],
     "prompt_number": 37
    }
   ],
   "metadata": {}
  }
 ]
}